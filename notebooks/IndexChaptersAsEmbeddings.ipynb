{
 "cells":[
  {
   "cell_type":"markdown",
   "source":[
    "# indexing chapters"
   ],
   "attachments":{
    
   },
   "metadata":{
    "datalore":{
     "node_id":"indexing chapters",
     "type":"MD",
     "hide_input_from_viewers":false,
     "hide_output_from_viewers":false,
     "sheet_delimiter":true
    }
   }
  },
  {
   "cell_type":"markdown",
   "source":[
    "## Index book chapters \n",
    "\n",
    "### Used libraries\n",
    "- OpenAI: For creating embeddings from paragraphs within chapters\n",
    "- Pinecone: Used to store and search by cosine-similarity across embeddings\n",
    "- Retry: Used for retrying failures accessing APIs"
   ],
   "attachments":{
    
   },
   "metadata":{
    "datalore":{
     "node_id":"c1YTqzDT391IjHElZMlg4k",
     "type":"MD",
     "hide_input_from_viewers":false,
     "hide_output_from_viewers":false
    }
   }
  },
  {
   "cell_type":"code",
   "source":[
    "import openai\n",
    "import os\n",
    "import pinecone\n",
    "import re\n",
    "\n",
    "from retry import retry\n",
    "\n",
    "book_url = \"https:\/\/raw.githubusercontent.com\/ganesh47\/data-samples\/main\/books\/sheshadri-swamigal\/chapter1.txt\"\n",
    "index_name = 'sheshadri-swamigal-v2'\n",
    "embed_model = \"text-embedding-ada-002\"\n",
    "\n",
    "def should_index(text):\n",
    "    if len(text) >= 50:\n",
    "        return  True\n",
    "    return False\n",
    "\n",
    "def download(url):\n",
    "    from urllib.request import urlopen\n",
    "    data = urlopen(url).read() \n",
    "    return data.decode('utf-8')\n",
    "\n",
    "@retry(tries=10)\n",
    "def crate_embedding(text):\n",
    "    return openai.Embedding.create(input=text, engine=embed_model)\n",
    "\n",
    "book_content = download(book_url)\n",
    "paras = re.split(\"\\n\\n\", book_content)\n",
    "count = 0\n",
    "for para in paras:\n",
    "    count = count + len(para)\n",
    "\n",
    "print(\"Likley cost for OpenAI embedding API $\" + str(count \/ 4000 * 0.0004))\n",
    "openai.api_key = os.environ[\"API\"]\n",
    "\n",
    "index = pinecone.Index(index_name)\n",
    "total_tokens = 0\n",
    "paraCount = 0\n",
    "chapterCount=1\n",
    "pinecone.init(\n",
    "        api_key=os.environ[\"PC_API\"],\n",
    "        environment=\"us-east1-gcp\"\n",
    "    )\n",
    "for para in paras:\n",
    "    if not should_index(para):\n",
    "        continue\n",
    "    res = crate_embedding(para)\n",
    "    paraCount = paraCount + 1\n",
    "    embeds = [record['embedding'] for record in res['data']]\n",
    "    total_tokens = res['usage']['total_tokens'] + total_tokens\n",
    "    to_upsert = embeds\n",
    "    if index_name not in pinecone.list_indexes():\n",
    "        # if does not exist, create index\n",
    "        pinecone.create_index(\n",
    "            index_name,\n",
    "            dimension=len(res['data'][0]['embedding']),\n",
    "            metric='cosine',\n",
    "            metadata_config={'indexed': ['text', 'chapter']}\n",
    "        )\n",
    "    index.upsert(vectors=list(zip([\"chapter \"+str(chapterCount)+\" para\" + str(paraCount)], embeds,[{'text':para,'chapter':str(chapterCount)}])))\n",
    "print(\"Used total tokens \" + str(total_tokens))     \n",
    "print(\"OpenAI API usage costs $\"+str((total_tokens * 0.0004)\/1000))\n",
    "\n"
   ],
   "execution_count":4,
   "outputs":[
    {
     "name":"stdout",
     "text":[
      "Likley cost for OpenAI embedding API $0.0024460000000000003\n",
      "Used total tokens 6668\n",
      "OpenAI API usage costs $0.0026672\n"
     ],
     "output_type":"stream"
    }
   ],
   "metadata":{
    "datalore":{
     "node_id":"oEM5SeFExMgcE9JRHbE8iT",
     "type":"CODE",
     "hide_input_from_viewers":false,
     "hide_output_from_viewers":false
    }
   }
  }
 ],
 "metadata":{
  "kernelspec":{
   "display_name":"Python",
   "language":"python",
   "name":"python"
  },
  "datalore":{
   "version":1,
   "computation_mode":"JUPYTER",
   "package_manager":"pip",
   "base_environment":"default",
   "packages":[
    {
     "name":"openai",
     "version":"0.27.0",
     "source":"PIP"
    },
    {
     "name":"pinecone-client",
     "source":"PIP"
    },
    {
     "name":"retry",
     "version":"0.9.2",
     "source":"PIP"
    }
   ]
  }
 },
 "nbformat":4,
 "nbformat_minor":4
}